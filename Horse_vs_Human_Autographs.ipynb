{
  "nbformat": 4,
  "nbformat_minor": 0,
  "metadata": {
    "colab": {
      "name": "Horse vs Human Autographs.ipynb",
      "provenance": [],
      "collapsed_sections": []
    },
    "kernelspec": {
      "name": "python3",
      "display_name": "Python 3"
    },
    "language_info": {
      "name": "python"
    },
    "accelerator": "GPU"
  },
  "cells": [
    {
      "cell_type": "code",
      "metadata": {
        "id": "K2t9ZUPL-7dL"
      },
      "source": [
        "from __future__ import absolute_import, division, print_function, unicode_literals\n",
        "import numpy as np"
      ],
      "execution_count": 2,
      "outputs": []
    },
    {
      "cell_type": "code",
      "metadata": {
        "id": "6yUp-mmr_K5N"
      },
      "source": [
        "import tensorflow as tf\n",
        "import tensorflow_datasets as tfds\n",
        "import tensorflow_hub as hub\n",
        "import matplotlib.pyplot as plt"
      ],
      "execution_count": 3,
      "outputs": []
    },
    {
      "cell_type": "code",
      "metadata": {
        "id": "6XhLWxKL_M2c"
      },
      "source": [
        "splits,info=tfds.load('horses_or_humans',as_supervised=True,with_info=True,split=['train[:80%]','train[80%:]','test'],data_dir='./data')"
      ],
      "execution_count": 4,
      "outputs": []
    },
    {
      "cell_type": "code",
      "metadata": {
        "id": "2MSPDa18A8TB"
      },
      "source": [
        "(train,validation,test)=splits"
      ],
      "execution_count": 5,
      "outputs": []
    },
    {
      "cell_type": "code",
      "metadata": {
        "id": "mR8YyV4KBCV2"
      },
      "source": [
        "num_examples=info.splits['train'].num_examples\n",
        "num_classes=info.features['label'].num_classes"
      ],
      "execution_count": 6,
      "outputs": []
    },
    {
      "cell_type": "code",
      "metadata": {
        "id": "VZGPLM71BqLk"
      },
      "source": [
        "BATCH_SIZE=32\n",
        "IMAGE_SIZE=224"
      ],
      "execution_count": 7,
      "outputs": []
    },
    {
      "cell_type": "code",
      "metadata": {
        "id": "iS87USmUB2zD"
      },
      "source": [
        "@tf.function\n",
        "def map_fn(img,label):\n",
        "  image_height=224\n",
        "  image_width=224\n",
        "  img=tf.image.resize(img,(224,224))\n",
        "  img=img/225.0\n",
        "  return img,label"
      ],
      "execution_count": 8,
      "outputs": []
    },
    {
      "cell_type": "code",
      "metadata": {
        "id": "0QIby0ucD1xN"
      },
      "source": [
        "def prepare_dataset(train,validation,test,num_examples,map_fn,batch_size):\n",
        "  train_ds=train.map(map_fn).shuffle(buffer_size=num_examples).batch(batch_size)\n",
        "  validation_ds=validation.map(map_fn).batch(batch_size)\n",
        "  test_ds=test.map(map_fn).batch(batch_size)  \n",
        "  return train_ds,validation_ds,test_ds "
      ],
      "execution_count": 9,
      "outputs": []
    },
    {
      "cell_type": "code",
      "metadata": {
        "id": "JiXbCI_pFUrY"
      },
      "source": [
        "train_ds,valid_ds,test_ds=prepare_dataset(train,validation,test,num_examples,map_fn,BATCH_SIZE)"
      ],
      "execution_count": 10,
      "outputs": []
    },
    {
      "cell_type": "code",
      "metadata": {
        "colab": {
          "base_uri": "https://localhost:8080/"
        },
        "id": "NFcucahoGPLe",
        "outputId": "4d8de7ef-2a17-40f1-e3ea-4cf6c37659df"
      },
      "source": [
        "model=tf.keras.Sequential([\n",
        "                           hub.KerasLayer('https://tfhub.dev/tensorflow/resnet_50/feature_vector/1',input_shape=(IMAGE_SIZE,IMAGE_SIZE,3),trainable=False),\n",
        "                           tf.keras.layers.Dense(num_classes,activation='softmax')\n",
        "])\n",
        "model.summary()"
      ],
      "execution_count": 11,
      "outputs": [
        {
          "output_type": "stream",
          "name": "stdout",
          "text": [
            "Model: \"sequential\"\n",
            "_________________________________________________________________\n",
            "Layer (type)                 Output Shape              Param #   \n",
            "=================================================================\n",
            "keras_layer (KerasLayer)     (None, 2048)              23561152  \n",
            "_________________________________________________________________\n",
            "dense (Dense)                (None, 2)                 4098      \n",
            "=================================================================\n",
            "Total params: 23,565,250\n",
            "Trainable params: 4,098\n",
            "Non-trainable params: 23,561,152\n",
            "_________________________________________________________________\n"
          ]
        }
      ]
    },
    {
      "cell_type": "code",
      "metadata": {
        "id": "4dmbP7oBG_DN"
      },
      "source": [
        "def set_adam_optimizer():\n",
        "    optimizer=tf.keras.optimizers.Adam() \n",
        "    return optimizer"
      ],
      "execution_count": 12,
      "outputs": []
    },
    {
      "cell_type": "code",
      "metadata": {
        "id": "__LcwTXbSLec"
      },
      "source": [
        "def set_sparse_cat_crossentropy_loss():\n",
        "    train_loss = tf.keras.losses.SparseCategoricalCrossentropy()\n",
        "    val_loss = tf.keras.losses.SparseCategoricalCrossentropy()\n",
        "    return train_loss, val_loss"
      ],
      "execution_count": 13,
      "outputs": []
    },
    {
      "cell_type": "code",
      "metadata": {
        "id": "_i58PyP6ICD4"
      },
      "source": [
        "def set_sparse_cat_crossentropy_accuracy():\n",
        "    train_accuracy = tf.keras.metrics.SparseCategoricalAccuracy() \n",
        "    val_accuracy = tf.keras.metrics.SparseCategoricalAccuracy() \n",
        "    return train_accuracy, val_accuracy"
      ],
      "execution_count": 14,
      "outputs": []
    },
    {
      "cell_type": "code",
      "metadata": {
        "id": "kIP2sjvCIL6u"
      },
      "source": [
        "optimizer=set_adam_optimizer()\n",
        "train_loss,val_loss=set_sparse_cat_crossentropy_loss()\n",
        "train_accuracy,val_accuracy=set_sparse_cat_crossentropy_accuracy()"
      ],
      "execution_count": 15,
      "outputs": []
    },
    {
      "cell_type": "code",
      "metadata": {
        "id": "WrpO3DKKIS7_"
      },
      "source": [
        "EPOCHS = 1\n",
        "\n",
        "def train_one_step(model, optimizer, x, y, train_loss, train_accuracy):\n",
        "    with tf.GradientTape() as tape:\n",
        "        predictions = model(x)\n",
        "        loss = train_loss(y, predictions)\n",
        "\n",
        "    grads = tape.gradient(loss, model.trainable_weights)\n",
        "    optimizer.apply_gradients(zip(grads , model.trainable_weights))\n",
        "    train_accuracy(y , predictions)\n",
        "    return loss"
      ],
      "execution_count": 16,
      "outputs": []
    },
    {
      "cell_type": "code",
      "metadata": {
        "id": "J6vAu150K6d_"
      },
      "source": [
        "@tf.function\n",
        "def train(model, optimizer, epochs, train_ds, train_loss, train_accuracy, valid_ds, val_loss, val_accuracy):\n",
        "    step = 0\n",
        "    loss = 0.0\n",
        "    for epoch in range(epochs):\n",
        "        for x, y in train_ds:\n",
        "            step += 1\n",
        "          \n",
        "            loss = train_one_step(model, optimizer, x, y, train_loss, train_accuracy)\n",
        "            tf.print('Step', step, \n",
        "                   ': train loss', loss, \n",
        "                   '; train accuracy', train_accuracy.result())\n",
        "\n",
        "            for x, y in valid_ds:\n",
        "                y_pred = model(x)\n",
        "                loss = val_loss(y, y_pred)\n",
        "                val_accuracy(y, y_pred)\n",
        "        tf.print('val loss', loss, '; val accuracy', val_accuracy.result())"
      ],
      "execution_count": 17,
      "outputs": []
    },
    {
      "cell_type": "code",
      "metadata": {
        "colab": {
          "base_uri": "https://localhost:8080/"
        },
        "id": "eWX6445IMV1Z",
        "outputId": "059764f7-99ed-4703-aed7-bbef23b888dc"
      },
      "source": [
        "train(model, optimizer, EPOCHS, train_ds, train_loss, train_accuracy, valid_ds, val_loss, val_accuracy)"
      ],
      "execution_count": 18,
      "outputs": [
        {
          "output_type": "stream",
          "name": "stdout",
          "text": [
            "Step 1 : train loss 0.830670476 ; train accuracy 0.46875\n",
            "Step 2 : train loss 0.584470749 ; train accuracy 0.59375\n",
            "Step 3 : train loss 0.413236916 ; train accuracy 0.6875\n",
            "Step 4 : train loss 0.28435415 ; train accuracy 0.7578125\n",
            "Step 5 : train loss 0.198592991 ; train accuracy 0.8\n",
            "Step 6 : train loss 0.220567897 ; train accuracy 0.822916687\n",
            "Step 7 : train loss 0.137348443 ; train accuracy 0.84375\n",
            "Step 8 : train loss 0.086852394 ; train accuracy 0.86328125\n",
            "Step 9 : train loss 0.058453057 ; train accuracy 0.878472209\n",
            "Step 10 : train loss 0.0801330209 ; train accuracy 0.8875\n",
            "Step 11 : train loss 0.0737676173 ; train accuracy 0.894886374\n",
            "Step 12 : train loss 0.0226055197 ; train accuracy 0.903645813\n",
            "Step 13 : train loss 0.026323827 ; train accuracy 0.911057711\n",
            "Step 14 : train loss 0.0238874424 ; train accuracy 0.917410731\n",
            "Step 15 : train loss 0.026718311 ; train accuracy 0.922916651\n",
            "Step 16 : train loss 0.0152539574 ; train accuracy 0.927734375\n",
            "Step 17 : train loss 0.0399940312 ; train accuracy 0.931985319\n",
            "Step 18 : train loss 0.0173310451 ; train accuracy 0.935763896\n",
            "Step 19 : train loss 0.0121576115 ; train accuracy 0.939144731\n",
            "Step 20 : train loss 0.018756032 ; train accuracy 0.942187488\n",
            "Step 21 : train loss 0.0149307409 ; train accuracy 0.944940448\n",
            "Step 22 : train loss 0.00718244724 ; train accuracy 0.947443187\n",
            "Step 23 : train loss 0.0158753265 ; train accuracy 0.949728251\n",
            "Step 24 : train loss 0.00986949727 ; train accuracy 0.951822937\n",
            "Step 25 : train loss 0.00687986333 ; train accuracy 0.95375\n",
            "Step 26 : train loss 0.0130618131 ; train accuracy 0.954987824\n",
            "val loss 0.00456719752 ; val accuracy 0.977110684\n"
          ]
        }
      ]
    },
    {
      "cell_type": "code",
      "metadata": {
        "id": "d5vI3J2JMgcI"
      },
      "source": [
        "test_imgs=[]\n",
        "test_labels=[]\n",
        "predictions=[]\n",
        "for images, labels in test_ds:\n",
        "      preds=model(images)\n",
        "      preds=preds.numpy()\n",
        "      predictions.extend(preds)\n",
        "\n",
        "      test_imgs.extend(images.numpy())\n",
        "      test_labels.extend(labels.numpy())"
      ],
      "execution_count": 21,
      "outputs": []
    },
    {
      "cell_type": "code",
      "metadata": {
        "id": "LwkmBqOZW0hE"
      },
      "source": [
        "class_names = ['horse','human']\n",
        "def plot_image(i, predictions_array, true_label, img):\n",
        "    predictions_array, true_label, img = predictions_array[i], true_label[i], img[i]\n",
        "    plt.grid(False)\n",
        "    plt.xticks([])\n",
        "    plt.yticks([])\n",
        "    img = np.squeeze(img)\n",
        "    plt.imshow(img, cmap=plt.cm.binary)\n",
        "    predicted_label = np.argmax(predictions_array)\n",
        "    if predicted_label == true_label:\n",
        "        color = 'green'\n",
        "    else:\n",
        "        color = 'red'\n",
        "    \n",
        "    print(true_label)\n",
        "    plt.xlabel(\"{} {:2.0f}% ({})\".format(class_names[predicted_label],\n",
        "                                100*np.max(predictions_array),\n",
        "                                class_names[true_label]),\n",
        "                                color=color)"
      ],
      "execution_count": 22,
      "outputs": []
    },
    {
      "cell_type": "code",
      "metadata": {
        "colab": {
          "base_uri": "https://localhost:8080/",
          "height": 233
        },
        "id": "gQNOKpdcXEpF",
        "outputId": "98ba9925-d791-4c93-bbb4-10aad2744fa0"
      },
      "source": [
        "index=10\n",
        "plt.figure(figsize=(6,3))\n",
        "plt.subplot(1,2,1)\n",
        "plot_image(index, predictions, test_labels, test_imgs)\n",
        "plt.show()"
      ],
      "execution_count": 23,
      "outputs": [
        {
          "output_type": "stream",
          "name": "stderr",
          "text": [
            "WARNING:matplotlib.image:Clipping input data to the valid range for imshow with RGB data ([0..1] for floats or [0..255] for integers).\n"
          ]
        },
        {
          "output_type": "stream",
          "name": "stdout",
          "text": [
            "0\n"
          ]
        },
        {
          "output_type": "display_data",
          "data": {
            "image/png": "[encoded data removed]",
            "text/plain": [
              "<Figure size 432x216 with 1 Axes>"
            ]
          },
          "metadata": {}
        }
      ]
    },
    {
      "cell_type": "code",
      "metadata": {
        "id": "6oWK6RYPdyT3"
      },
      "source": [
        ""
      ],
      "execution_count": null,
      "outputs": []
    }
  ]
}